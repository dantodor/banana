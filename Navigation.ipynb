{
 "cells": [
  {
   "cell_type": "markdown",
   "metadata": {},
   "source": [
    "# Navigation\n",
    "\n",
    "\n",
    "### 1. Start the Environment\n",
    "\n",
    "We begin by importing some necessary packages.  If the code cell below returns an error, please revisit the project instructions to double-check that you have installed [Unity ML-Agents](https://github.com/Unity-Technologies/ml-agents/blob/master/docs/Installation.md) and [NumPy](http://www.numpy.org/)."
   ]
  },
  {
   "cell_type": "code",
   "execution_count": 1,
   "metadata": {},
   "outputs": [],
   "source": [
    "from unityagents import UnityEnvironment\n",
    "import numpy as np"
   ]
  },
  {
   "cell_type": "markdown",
   "metadata": {},
   "source": [
    "Next, we will start the environment!  **_Before running the code cell below_**, change the `file_name` parameter to match the location of the Unity environment that you downloaded.\n",
    "\n",
    "- **Mac**: `\"path/to/Banana.app\"`\n",
    "- **Windows** (x86): `\"path/to/Banana_Windows_x86/Banana.exe\"`\n",
    "- **Windows** (x86_64): `\"path/to/Banana_Windows_x86_64/Banana.exe\"`\n",
    "- **Linux** (x86): `\"path/to/Banana_Linux/Banana.x86\"`\n",
    "- **Linux** (x86_64): `\"path/to/Banana_Linux/Banana.x86_64\"`\n",
    "- **Linux** (x86, headless): `\"path/to/Banana_Linux_NoVis/Banana.x86\"`\n",
    "- **Linux** (x86_64, headless): `\"path/to/Banana_Linux_NoVis/Banana.x86_64\"`\n",
    "\n",
    "For instance, if you are using a Mac, then you downloaded `Banana.app`.  If this file is in the same folder as the notebook, then the line below should appear as follows:\n",
    "```\n",
    "env = UnityEnvironment(file_name=\"Banana.app\")\n",
    "```"
   ]
  },
  {
   "cell_type": "code",
   "execution_count": 2,
   "metadata": {},
   "outputs": [
    {
     "name": "stderr",
     "output_type": "stream",
     "text": [
      "INFO:unityagents:\n",
      "'Academy' started successfully!\n",
      "Unity Academy name: Academy\n",
      "        Number of Brains: 1\n",
      "        Number of External Brains : 1\n",
      "        Lesson number : 0\n",
      "        Reset Parameters :\n",
      "\t\t\n",
      "Unity brain name: BananaBrain\n",
      "        Number of Visual Observations (per agent): 0\n",
      "        Vector Observation space type: continuous\n",
      "        Vector Observation space size (per agent): 37\n",
      "        Number of stacked Vector Observation: 1\n",
      "        Vector Action space type: discrete\n",
      "        Vector Action space size (per agent): 4\n",
      "        Vector Action descriptions: , , , \n"
     ]
    }
   ],
   "source": [
    "env = UnityEnvironment(file_name=\"Banana.app\")"
   ]
  },
  {
   "cell_type": "markdown",
   "metadata": {},
   "source": [
    "Environments contain **_brains_** which are responsible for deciding the actions of their associated agents. Here we check for the first brain available, and set it as the default brain we will be controlling from Python."
   ]
  },
  {
   "cell_type": "code",
   "execution_count": 3,
   "metadata": {},
   "outputs": [],
   "source": [
    "# get the default brain\n",
    "brain_name = env.brain_names[0]\n",
    "brain = env.brains[brain_name]"
   ]
  },
  {
   "cell_type": "markdown",
   "metadata": {},
   "source": [
    "### 2. Examine the State and Action Spaces\n",
    "\n",
    "The simulation contains a single agent that navigates a large environment.  At each time step, it has four actions at its disposal:\n",
    "- `0` - walk forward \n",
    "- `1` - walk backward\n",
    "- `2` - turn left\n",
    "- `3` - turn right\n",
    "\n",
    "The state space has `37` dimensions and contains the agent's velocity, along with ray-based perception of objects around agent's forward direction.  A reward of `+1` is provided for collecting a yellow banana, and a reward of `-1` is provided for collecting a blue banana. \n",
    "\n",
    "Run the code cell below to print some information about the environment."
   ]
  },
  {
   "cell_type": "code",
   "execution_count": 4,
   "metadata": {},
   "outputs": [
    {
     "name": "stdout",
     "output_type": "stream",
     "text": [
      "Number of agents: 1\n",
      "Number of actions: 4\n",
      "States look like: [1.         0.         0.         0.         0.84408134 0.\n",
      " 0.         1.         0.         0.0748472  0.         1.\n",
      " 0.         0.         0.25755    1.         0.         0.\n",
      " 0.         0.74177343 0.         1.         0.         0.\n",
      " 0.25854847 0.         0.         1.         0.         0.09355672\n",
      " 0.         1.         0.         0.         0.31969345 0.\n",
      " 0.        ]\n",
      "States have length: 37\n"
     ]
    }
   ],
   "source": [
    "# reset the environment\n",
    "env_info = env.reset(train_mode=True)[brain_name]\n",
    "\n",
    "# number of agents in the environment\n",
    "print('Number of agents:', len(env_info.agents))\n",
    "\n",
    "# number of actions\n",
    "action_size = brain.vector_action_space_size\n",
    "print('Number of actions:', action_size)\n",
    "\n",
    "# examine the state space \n",
    "state = env_info.vector_observations[0]\n",
    "print('States look like:', state)\n",
    "state_size = len(state)\n",
    "print('States have length:', state_size)"
   ]
  },
  {
   "cell_type": "markdown",
   "metadata": {},
   "source": [
    "### 3. Let's start !\n",
    "\n"
   ]
  },
  {
   "cell_type": "code",
   "execution_count": 5,
   "metadata": {},
   "outputs": [],
   "source": [
    "# some needed libraries\n",
    "import random\n",
    "from collections import namedtuple, deque"
   ]
  },
  {
   "cell_type": "markdown",
   "metadata": {},
   "source": [
    "#### a) isolate some constants and the hyperparameters"
   ]
  },
  {
   "cell_type": "code",
   "execution_count": 6,
   "metadata": {},
   "outputs": [],
   "source": [
    "#constants and hyperparams\n",
    "# test with changing G,T,LR mainly, eps values pretty standard for this kind of task, experiment maybe\n",
    "\n",
    "BUFFER_SIZE = int(1e5)  # replay buffer\n",
    "BATCH_SIZE = 64         # training batch size\n",
    "G = 0.99                # gamma - discount factor\n",
    "T = 2e-3                # tau - soft update factor\n",
    "LR = 7e-4               # learning rate\n",
    "UPDATE_FREQUENCY = 4    # how often to update the network\n",
    "N_EPISODES = 1000       # must solve within this window\n",
    "EPS_START = 1.          # epsilon greedy params: start, end decay\n",
    "EPS_END = 0.01\n",
    "EPS_DECAY = 0.995\n",
    "MAX_STEPS = 1000        # don't wait until env return done, exit training loop if not done within MAX_STEPS\n",
    "WINDOW_LENGTH = 100     # average score over last x episodes"
   ]
  },
  {
   "cell_type": "markdown",
   "metadata": {},
   "source": [
    "#### b) describe the blueprint of the deep neural network that will learn how to guide the agent"
   ]
  },
  {
   "cell_type": "code",
   "execution_count": 7,
   "metadata": {},
   "outputs": [],
   "source": [
    "import torch\n",
    "import torch.nn as nn\n",
    "import torch.nn.functional as F\n",
    "import torch.optim as optim\n",
    "\n",
    "# models the deep learning network that is used as a function approximator for choosing the action\n",
    "# experiment with number of layers and layer size to optimize convergence\n",
    "# also experiment with externalizing the network shape to the caller layer -> later\n",
    "\n",
    "class Network(nn.Module):\n",
    "\n",
    "    def __init__(self, state_size, action_size, seed):\n",
    "        super(Network, self).__init__()\n",
    "        self.seed = torch.manual_seed(seed)\n",
    "        self.fullyconnected1 = nn.Linear(state_size, 128)\n",
    "        self.fullyconnected2 = nn.Linear(128, 64)\n",
    "        self.fullyconnected3 = nn.Linear(64, 32)\n",
    "        self.fullyconnected4 = nn.Linear(32, action_size)\n",
    "\n",
    "    def forward(self, state):\n",
    "        x = F.relu(self.fullyconnected1(state))\n",
    "        x = F.relu(self.fullyconnected2(x))\n",
    "        x = F.relu(self.fullyconnected3(x))\n",
    "        return self.fullyconnected4(x)\n",
    "    "
   ]
  },
  {
   "cell_type": "markdown",
   "metadata": {},
   "source": [
    "#### d) Definiton of the Replay memory buffer"
   ]
  },
  {
   "cell_type": "code",
   "execution_count": 8,
   "metadata": {},
   "outputs": [],
   "source": [
    "class ReplayMemory(object):\n",
    "\n",
    "    def __init__(self, action_size, buffer_size, batch_size, seed):\n",
    "        self.action_size = action_size\n",
    "        self.memory = deque(maxlen=buffer_size)\n",
    "        self.batch_size = batch_size\n",
    "        self.experience = namedtuple(\"Exp\",field_names=[\"state\", \"action\", \"reward\", \"next_state\", \"done\"])\n",
    "        self.seed = random.seed(seed)\n",
    "\n",
    "    def add(self, state, action, reward, next_state, done):\n",
    "        e = self.experience(state, action, reward, next_state, done)\n",
    "        self.memory.append(e)\n",
    "\n",
    "    def sample(self):\n",
    "        experiences = random.sample(self.memory, k=self.batch_size)\n",
    "        # build the output tuple, make sure no null values\n",
    "        states = torch.from_numpy(np.vstack([e.state for e in experiences if e is not None])).float().to(\"cpu\")\n",
    "        actions = torch.from_numpy(np.vstack([e.action for e in experiences if e is not None])).long().to(\"cpu\")\n",
    "        rewards = torch.from_numpy(np.vstack([e.reward for e in experiences if e is not None])).float().to(\"cpu\")\n",
    "        next_states = torch.from_numpy(np.vstack([e.next_state for e in experiences if e is not None])).float().to(\"cpu\")\n",
    "        dones = torch.from_numpy(np.vstack([e.done for e in experiences if e is not None]).astype(np.uint8)).float().to(\"cpu\")\n",
    "        return (states, actions, rewards, next_states, dones)\n",
    "\n",
    "    def __len__(self):\n",
    "        return len(self.memory)\n"
   ]
  },
  {
   "cell_type": "markdown",
   "metadata": {},
   "source": [
    "#### e) Definition of the agent itself"
   ]
  },
  {
   "cell_type": "code",
   "execution_count": 9,
   "metadata": {},
   "outputs": [],
   "source": [
    "class DQAgent():\n",
    "\n",
    "    def __init__(self, state_size, action_size, seed):\n",
    "        self.state_size = state_size\n",
    "        self.action_size = action_size\n",
    "        self.seed = random.seed(seed)\n",
    "        #replace cpu with gpu is system permits\n",
    "        self.qnet = Network(state_size, action_size, seed).to(\"cpu\")\n",
    "        self.target_qnet = Network(state_size, action_size, seed).to(\"cpu\")\n",
    "        self.optimizer = optim.Adam(self.qnet.parameters(), lr=LR)\n",
    "\n",
    "        self.memory = ReplayMemory(action_size, BUFFER_SIZE, BATCH_SIZE, seed)\n",
    "        self.time_step = 0\n",
    "\n",
    "    def step(self, state, action, reward, next_state, done):\n",
    "        self.memory.add(state, action, reward, next_state, done) # append state to memory\n",
    "        self.time_step = self.time_step + 1\n",
    "        if (self.time_step % UPDATE_FREQUENCY) == 0: # reached an update point, time to learn\n",
    "            self.time_step = 0\n",
    "            if len(self.memory) > BATCH_SIZE: # train\n",
    "                experiences = self.memory.sample() # get a random sample from memory for training\n",
    "                self.learn(experiences, G)\n",
    "                \n",
    "    # get next choosen action based on current training\n",
    "    def act(self, state, eps=0.):\n",
    "        state = torch.from_numpy(state).float().unsqueeze(0).to(\"cpu\")\n",
    "        self.qnet.eval()\n",
    "        with torch.no_grad():\n",
    "            action_values = self.qnet(state)\n",
    "        self.qnet.train()\n",
    "        if random.random() > eps:\n",
    "            return np.argmax(action_values.cpu().numpy()) # exploatation\n",
    "        else:\n",
    "            return random.choice(np.arange(self.action_size)) # exploration\n",
    "\n",
    "    def learn(self, experiences, gamma):\n",
    "        states, actions, rewards, next_states, dones = experiences\n",
    "        max_Q = self.target_qnet(next_states).detach().max(1)[0].unsqueeze(1)\n",
    "        Q_target = rewards + (gamma * max_Q * (1 - dones))\n",
    "        Q_expected = self.qnet(states).gather(1, actions)\n",
    "        loss = F.mse_loss(Q_expected, Q_target) # calculate loss\n",
    "        self.optimizer.zero_grad()  # reset gradients and train\n",
    "        loss.backward() # backward prop\n",
    "        self.optimizer.step()\n",
    "        self.update(self.qnet, self.target_qnet, T)\n",
    "\n",
    "    def update(self, local_model, target_model, tau):\n",
    "        params = zip(target_model.parameters(), local_model.parameters())\n",
    "        for target_param, local_param in params:\n",
    "            tensor_aux = tau*local_param.data + (1.0-tau)*target_param.data\n",
    "            target_param.data.copy_(tensor_aux)\n"
   ]
  },
  {
   "cell_type": "markdown",
   "metadata": {},
   "source": [
    "#### f) Finally, we can start the training"
   ]
  },
  {
   "cell_type": "code",
   "execution_count": 10,
   "metadata": {},
   "outputs": [],
   "source": [
    "#START THE TRAINING\n",
    "# reset the environment, set training mode\n",
    "env_info = env.reset(train_mode=True)[brain_name]\n",
    "# initialize values\n",
    "action_size = brain.vector_action_space_size\n",
    "state_size = len(state)"
   ]
  },
  {
   "cell_type": "markdown",
   "metadata": {},
   "source": [
    "##### - set initial values"
   ]
  },
  {
   "cell_type": "code",
   "execution_count": 11,
   "metadata": {},
   "outputs": [],
   "source": [
    "scores = []                                # scores from each episode\n",
    "last_scores = deque(maxlen=WINDOW_LENGTH)  # for saving last x scores\n",
    "eps = EPS_START                            # epsilon greedy              "
   ]
  },
  {
   "cell_type": "markdown",
   "metadata": {},
   "source": [
    "##### - get an agent running"
   ]
  },
  {
   "cell_type": "code",
   "execution_count": 12,
   "metadata": {},
   "outputs": [],
   "source": [
    "#instantiate the agent\n",
    "agent = DQAgent(state_size=state_size, action_size=action_size, seed=0)"
   ]
  },
  {
   "cell_type": "markdown",
   "metadata": {},
   "source": [
    "##### - main training loop"
   ]
  },
  {
   "cell_type": "code",
   "execution_count": 13,
   "metadata": {},
   "outputs": [
    {
     "name": "stdout",
     "output_type": "stream",
     "text": [
      "Episode 467 - average score: 13.04\n",
      "Success!! Environment solved in 467 episodes, average score: 13.04\n"
     ]
    }
   ],
   "source": [
    "#start training loop\n",
    "for episode in range(1, N_EPISODES+1):\n",
    "    env_info = env.reset(train_mode=True)[brain_name] \n",
    "    state = env_info.vector_observations[0]            \n",
    "    score = 0                                          \n",
    "    for t in range(MAX_STEPS):\n",
    "        action = agent.act(state, eps)                 # get next proposed action from the agent\n",
    "        env_info = env.step(action)[brain_name]        # execute action\n",
    "        next_state = env_info.vector_observations[0]   # get env status\n",
    "        reward = env_info.rewards[0]\n",
    "        score += reward\n",
    "        done = env_info.local_done[0]                  \n",
    "        agent.step(state, action, reward, next_state, done) # propagate environment response to the DQN agent\n",
    "        state = next_state                             \n",
    "        if done:                                       # exit loop if episode finished\n",
    "            break\n",
    "    last_scores.append(score)       # save most recent score\n",
    "    scores.append(score)              \n",
    "    eps = max(EPS_END, EPS_DECAY*eps) \n",
    "    print('\\rEpisode {} - average score: {:.2f}'.format(episode, np.mean(last_scores)), end=\"\")\n",
    "    if np.mean(last_scores)>=13.0:\n",
    "        print('\\nSuccess!! Environment solved in {:d} episodes, average score: {:.2f}'.format(episode, \n",
    "                                                                                              np.mean(last_scores)))\n",
    "        torch.save(agent.qnet.state_dict(), 'checkpoint.pth')\n",
    "        break"
   ]
  },
  {
   "cell_type": "markdown",
   "metadata": {},
   "source": [
    "##### - plot the agent evolution ( scores )"
   ]
  },
  {
   "cell_type": "code",
   "execution_count": 14,
   "metadata": {},
   "outputs": [
    {
     "data": {
      "image/png": "[encoded data removed]",
      "text/plain": [
       "<Figure size 432x288 with 1 Axes>"
      ]
     },
     "metadata": {
      "needs_background": "light"
     },
     "output_type": "display_data"
    }
   ],
   "source": [
    "import matplotlib.pyplot as plt\n",
    "%matplotlib inline\n",
    "# plot the training session\n",
    "s = np.array(scores)\n",
    "fig = plt.figure()\n",
    "ax = fig.add_subplot(111)\n",
    "plt.plot(np.arange(len(s)), s)\n",
    "plt.ylabel('Score')\n",
    "plt.xlabel('Episode #')\n",
    "plt.show()"
   ]
  },
  {
   "cell_type": "code",
   "execution_count": 15,
   "metadata": {},
   "outputs": [],
   "source": [
    "env.close() # close the environment"
   ]
  }
 ],
 "metadata": {
  "kernelspec": {
   "display_name": "drlnd",
   "language": "python",
   "name": "drlnd"
  },
  "language_info": {
   "codemirror_mode": {
    "name": "ipython",
    "version": 3
   },
   "file_extension": ".py",
   "mimetype": "text/x-python",
   "name": "python",
   "nbconvert_exporter": "python",
   "pygments_lexer": "ipython3",
   "version": "3.6.6"
  }
 },
 "nbformat": 4,
 "nbformat_minor": 2
}
